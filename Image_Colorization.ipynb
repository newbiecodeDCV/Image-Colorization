{
  "nbformat": 4,
  "nbformat_minor": 0,
  "metadata": {
    "colab": {
      "provenance": [],
      "authorship_tag": "ABX9TyP6LRpqSCzqeI55XfcU6PLb",
      "include_colab_link": true
    },
    "kernelspec": {
      "name": "python3",
      "display_name": "Python 3"
    },
    "language_info": {
      "name": "python"
    }
  },
  "cells": [
    {
      "cell_type": "markdown",
      "metadata": {
        "id": "view-in-github",
        "colab_type": "text"
      },
      "source": [
        "<a href=\"https://colab.research.google.com/github/newbiecodeDCV/Image-Colorization/blob/dev/Image_Colorization.ipynb\" target=\"_parent\"><img src=\"https://colab.research.google.com/assets/colab-badge.svg\" alt=\"Open In Colab\"/></a>"
      ]
    },
    {
      "cell_type": "code",
      "execution_count": 8,
      "metadata": {
        "id": "VarJHyceoc2Q",
        "colab": {
          "base_uri": "https://localhost:8080/"
        },
        "outputId": "fcc72357-448a-4fef-836f-21baaa526a49"
      },
      "outputs": [
        {
          "output_type": "stream",
          "name": "stdout",
          "text": [
            "Downloading...\n",
            "From (original): https://drive.google.com/uc?id=187x5YSXYibG4QwC5m_Hx8cNzPGVTXv6G\n",
            "From (redirected): https://drive.google.com/uc?id=187x5YSXYibG4QwC5m_Hx8cNzPGVTXv6G&confirm=t&uuid=cecc128a-dd44-43dd-a8f7-855e1edd87b0\n",
            "To: /content/data.zip\n",
            "100% 2.73G/2.73G [00:36<00:00, 74.5MB/s]\n"
          ]
        }
      ],
      "source": [
        "# Chuẩn bị bộ dữ liệu LFW gồm 12000 ảnh train và 1000 ảnh test cùng với một bộ đặc trưng được trích xuất từ VGG\n",
        "! gdown 187x5YSXYibG4QwC5m_Hx8cNzPGVTXv6G\n",
        "! unzip -q data.zip\n",
        "! rm data.zip"
      ]
    },
    {
      "cell_type": "code",
      "source": [
        "import os\n",
        "import cv2\n",
        "import numpy as np\n",
        "from tqdm import tqdm\n",
        "import torch\n",
        "import torch.nn as nn\n",
        "import torch.nn.functional as F\n",
        "import torch.optim  as optim\n",
        "from torch.utils.data import DataLoader\n",
        "from torch.utils.data import Dataset"
      ],
      "metadata": {
        "id": "s-SN7w4R_B_s"
      },
      "execution_count": 9,
      "outputs": []
    },
    {
      "cell_type": "code",
      "source": [],
      "metadata": {
        "id": "Nk9MbreSAg6x"
      },
      "execution_count": null,
      "outputs": []
    }
  ]
}